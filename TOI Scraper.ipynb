{
 "cells": [
  {
   "cell_type": "code",
   "execution_count": 1,
   "metadata": {},
   "outputs": [],
   "source": [
    "import requests\n",
    "from bs4 import BeautifulSoup\n",
    "import pandas as pd"
   ]
  },
  {
   "cell_type": "code",
   "execution_count": 21,
   "metadata": {},
   "outputs": [],
   "source": [
    "l1=[]\n",
    "l2=[]"
   ]
  },
  {
   "cell_type": "code",
   "execution_count": 22,
   "metadata": {},
   "outputs": [],
   "source": [
    "for i in range(1,21):\n",
    "    url = 'https://timesofindia.indiatimes.com/topic/Gst-Fraud/'+str(i)\n",
    "    response = requests.get(url)\n",
    "    soup = BeautifulSoup(response.text,'lxml')\n",
    "    links=[]\n",
    "    for article in soup.findAll('li',class_='article'):\n",
    "        links.append('https://timesofindia.indiatimes.com'+article.a['href'])\n",
    "    for ur in links:\n",
    "        getter=requests.get(ur)\n",
    "        sup=BeautifulSoup(getter.text,'lxml')\n",
    "        l1.append(sup.h1.text)\n",
    "        news=sup.find('div',class_='_3WlLe clearfix')\n",
    "        try:\n",
    "            l2.append(news.text)\n",
    "        except AttributeError:\n",
    "            try:\n",
    "                new=sup.find('div',class_='section1')\n",
    "                new.script.decompose()\n",
    "                l2.append(new.text)\n",
    "            except:l1.pop()"
   ]
  },
  {
   "cell_type": "code",
   "execution_count": 23,
   "metadata": {},
   "outputs": [],
   "source": [
    "toi=pd.DataFrame()\n",
    "toi['Headline']=l1\n",
    "toi['Article']=l2\n",
    "toi.to_csv('gstfraud.csv',index=False)"
   ]
  },
  {
   "cell_type": "code",
   "execution_count": null,
   "metadata": {},
   "outputs": [],
   "source": []
  }
 ],
 "metadata": {
  "kernelspec": {
   "display_name": "Python 3",
   "language": "python",
   "name": "python3"
  },
  "language_info": {
   "codemirror_mode": {
    "name": "ipython",
    "version": 3
   },
   "file_extension": ".py",
   "mimetype": "text/x-python",
   "name": "python",
   "nbconvert_exporter": "python",
   "pygments_lexer": "ipython3",
   "version": "3.7.4"
  }
 },
 "nbformat": 4,
 "nbformat_minor": 2
}
